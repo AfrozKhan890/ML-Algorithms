{
 "cells": [
  {
   "cell_type": "markdown",
   "id": "74ba55d7",
   "metadata": {},
   "source": [
    " Import Libraries\n"
   ]
  },
  {
   "cell_type": "code",
   "execution_count": 23,
   "id": "33ff5195",
   "metadata": {},
   "outputs": [],
   "source": [
    "import numpy as np\n",
    "import pandas as pd\n",
    "import  matplotlib.pyplot as plt\n",
    "from sklearn import linear_model"
   ]
  },
  {
   "cell_type": "markdown",
   "id": "8dec8e69",
   "metadata": {},
   "source": [
    "Import Data sheet in excel format"
   ]
  },
  {
   "cell_type": "code",
   "execution_count": 24,
   "id": "0b1bd15d",
   "metadata": {},
   "outputs": [
    {
     "data": {
      "text/html": [
       "<div>\n",
       "<style scoped>\n",
       "    .dataframe tbody tr th:only-of-type {\n",
       "        vertical-align: middle;\n",
       "    }\n",
       "\n",
       "    .dataframe tbody tr th {\n",
       "        vertical-align: top;\n",
       "    }\n",
       "\n",
       "    .dataframe thead th {\n",
       "        text-align: right;\n",
       "    }\n",
       "</style>\n",
       "<table border=\"1\" class=\"dataframe\">\n",
       "  <thead>\n",
       "    <tr style=\"text-align: right;\">\n",
       "      <th></th>\n",
       "      <th>Hours_Studied</th>\n",
       "      <th>Test_Score</th>\n",
       "    </tr>\n",
       "  </thead>\n",
       "  <tbody>\n",
       "    <tr>\n",
       "      <th>0</th>\n",
       "      <td>1</td>\n",
       "      <td>40</td>\n",
       "    </tr>\n",
       "    <tr>\n",
       "      <th>1</th>\n",
       "      <td>2</td>\n",
       "      <td>50</td>\n",
       "    </tr>\n",
       "    <tr>\n",
       "      <th>2</th>\n",
       "      <td>3</td>\n",
       "      <td>60</td>\n",
       "    </tr>\n",
       "    <tr>\n",
       "      <th>3</th>\n",
       "      <td>4</td>\n",
       "      <td>70</td>\n",
       "    </tr>\n",
       "    <tr>\n",
       "      <th>4</th>\n",
       "      <td>5</td>\n",
       "      <td>75</td>\n",
       "    </tr>\n",
       "    <tr>\n",
       "      <th>5</th>\n",
       "      <td>6</td>\n",
       "      <td>80</td>\n",
       "    </tr>\n",
       "  </tbody>\n",
       "</table>\n",
       "</div>"
      ],
      "text/plain": [
       "   Hours_Studied  Test_Score\n",
       "0              1          40\n",
       "1              2          50\n",
       "2              3          60\n",
       "3              4          70\n",
       "4              5          75\n",
       "5              6          80"
      ]
     },
     "execution_count": 24,
     "metadata": {},
     "output_type": "execute_result"
    }
   ],
   "source": [
    "df = pd.read_excel(\"datasets/study.xlsx\")\n",
    "df"
   ]
  },
  {
   "cell_type": "markdown",
   "id": "34fea711",
   "metadata": {},
   "source": [
    "Find Intercept"
   ]
  },
  {
   "cell_type": "code",
   "execution_count": 25,
   "id": "c65aa33a",
   "metadata": {},
   "outputs": [
    {
     "name": "stdout",
     "output_type": "stream",
     "text": [
      "Intercept: 34.0\n"
     ]
    }
   ],
   "source": [
    "reg = linear_model.LinearRegression()\n",
    "reg.fit(df[['Hours_Studied']], df.Test_Score)\n",
    "print(f\"Intercept: {reg.intercept_}\")"
   ]
  },
  {
   "cell_type": "markdown",
   "id": "88adf2ef",
   "metadata": {},
   "source": [
    "Find Coefficient"
   ]
  },
  {
   "cell_type": "code",
   "execution_count": 26,
   "id": "2bd2ad9f",
   "metadata": {},
   "outputs": [
    {
     "name": "stdout",
     "output_type": "stream",
     "text": [
      "Coefficient: 8.142857142857144\n"
     ]
    }
   ],
   "source": [
    "print(f\"Coefficient: {reg.coef_[0]}\")\n"
   ]
  },
  {
   "cell_type": "markdown",
   "id": "750f4f31",
   "metadata": {},
   "source": [
    "Predict the score for studying seven hours"
   ]
  },
  {
   "cell_type": "code",
   "execution_count": 27,
   "id": "851c465b",
   "metadata": {},
   "outputs": [
    {
     "name": "stdout",
     "output_type": "stream",
     "text": [
      "Prediction Score for Studying 7 hours will be [91.]\n"
     ]
    },
    {
     "name": "stderr",
     "output_type": "stream",
     "text": [
      "c:\\Users\\user\\AppData\\Local\\Programs\\Python\\Python312\\Lib\\site-packages\\sklearn\\utils\\validation.py:2749: UserWarning: X does not have valid feature names, but LinearRegression was fitted with feature names\n",
      "  warnings.warn(\n"
     ]
    }
   ],
   "source": [
    "prediction = reg.predict([[7]])\n",
    "print(f\"Prediction Score for Studying 7 hours will be {prediction}\")"
   ]
  },
  {
   "cell_type": "markdown",
   "id": "adba3a0c",
   "metadata": {},
   "source": [
    "For Comparing Actual and Predicted Data, Use the line Graph"
   ]
  },
  {
   "cell_type": "code",
   "execution_count": 28,
   "id": "3afd01fe",
   "metadata": {},
   "outputs": [
    {
     "data": {
      "image/png": "[encoded data removed]",
      "text/plain": [
       "<Figure size 640x480 with 1 Axes>"
      ]
     },
     "metadata": {},
     "output_type": "display_data"
    }
   ],
   "source": [
    "# Actual data\n",
    "X = df[['Hours_Studied']]\n",
    "y = df['Test_Score']\n",
    "\n",
    "# Predicted values\n",
    "y_pred = reg.predict(X)\n",
    "\n",
    "# Plot\n",
    "plt.title(\"Predicted vs Actual Test Score\")\n",
    "plt.xlabel(\"Hours Studied\")\n",
    "plt.ylabel(\"Test Score\")\n",
    "\n",
    "# Actual points\n",
    "plt.scatter(X, y, color='blue', label='Actual Data')\n",
    "\n",
    "# Regression line\n",
    "plt.plot(X, y_pred, color='red', label='Predicted Line')\n",
    "\n",
    "plt.legend()\n",
    "plt.grid(True)\n",
    "plt.show()\n",
    "\n"
   ]
  }
 ],
 "metadata": {
  "kernelspec": {
   "display_name": "Python 3",
   "language": "python",
   "name": "python3"
  },
  "language_info": {
   "codemirror_mode": {
    "name": "ipython",
    "version": 3
   },
   "file_extension": ".py",
   "mimetype": "text/x-python",
   "name": "python",
   "nbconvert_exporter": "python",
   "pygments_lexer": "ipython3",
   "version": "3.12.4"
  }
 },
 "nbformat": 4,
 "nbformat_minor": 5
}
